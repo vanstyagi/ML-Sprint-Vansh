{
 "cells": [
  {
   "cell_type": "code",
   "execution_count": 1,
   "id": "dc7ad698-eb69-4249-97a9-07e3fb83922c",
   "metadata": {},
   "outputs": [
    {
     "name": "stdout",
     "output_type": "stream",
     "text": [
      "✅ Libraries loaded successfully\n"
     ]
    }
   ],
   "source": [
    "# Day 02 - Pandas Basics\n",
    "import pandas as pd\n",
    "import numpy as np\n",
    "\n",
    "print(\"✅ Libraries loaded successfully\")\n"
   ]
  },
  {
   "cell_type": "code",
   "execution_count": 2,
   "id": "fa0a86ce-8700-4c2c-a64a-c6b2e09e67b4",
   "metadata": {},
   "outputs": [
    {
     "name": "stdout",
     "output_type": "stream",
     "text": [
      "a    10\n",
      "b    20\n",
      "c    30\n",
      "d    40\n",
      "dtype: int64\n"
     ]
    }
   ],
   "source": [
    "# Creating a simple Series\n",
    "data = [10, 20, 30, 40]\n",
    "labels = ['a', 'b', 'c', 'd']\n",
    "series = pd.Series(data, index=labels)\n",
    "print(series)\n"
   ]
  },
  {
   "cell_type": "code",
   "execution_count": 5,
   "id": "a1fc73ca-3d86-40fd-ab0b-90009f564d3f",
   "metadata": {},
   "outputs": [
    {
     "name": "stdout",
     "output_type": "stream",
     "text": [
      "    Name  Marks  Passed\n",
      "0  Vansh     88    True\n",
      "1   Ravi     76   False\n",
      "2  Priya     92    True\n",
      "\n",
      "Describe:\n",
      "            Marks\n",
      "count   3.000000\n",
      "mean   85.333333\n",
      "std     8.326664\n",
      "min    76.000000\n",
      "25%    82.000000\n",
      "50%    88.000000\n",
      "75%    90.000000\n",
      "max    92.000000\n"
     ]
    }
   ],
   "source": [
    "# Creating a basic DataFrame\n",
    "df = pd.DataFrame({\n",
    "    'Name': ['Vansh', 'Ravi', 'Priya'],\n",
    "    'Marks': [88, 76, 92],\n",
    "    'Passed': [True, False, True]\n",
    "})\n",
    "\n",
    "print(df.head())\n",
    "print(\"\\nDescribe:\\n\", df.describe())\n"
   ]
  },
  {
   "cell_type": "code",
   "execution_count": null,
   "id": "672b1756-4ef5-40d6-b88e-86cbec19e8d6",
   "metadata": {},
   "outputs": [],
   "source": []
  }
 ],
 "metadata": {
  "kernelspec": {
   "display_name": "Python [conda env:base] *",
   "language": "python",
   "name": "conda-base-py"
  },
  "language_info": {
   "codemirror_mode": {
    "name": "ipython",
    "version": 3
   },
   "file_extension": ".py",
   "mimetype": "text/x-python",
   "name": "python",
   "nbconvert_exporter": "python",
   "pygments_lexer": "ipython3",
   "version": "3.12.7"
  }
 },
 "nbformat": 4,
 "nbformat_minor": 5
}
