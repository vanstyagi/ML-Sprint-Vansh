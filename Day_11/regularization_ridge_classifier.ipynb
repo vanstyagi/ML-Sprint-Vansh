{
 "cells": [
  {
   "cell_type": "code",
   "execution_count": 1,
   "id": "3e695180-60e9-4ed0-bcd7-4d2cd1650bde",
   "metadata": {},
   "outputs": [],
   "source": [
    "import pandas as pd\n",
    "import numpy as np\n",
    "import matplotlib.pyplot as plt\n",
    "import seaborn as sns\n",
    "\n",
    "from sklearn.datasets import load_breast_cancer\n",
    "from sklearn.model_selection import train_test_split, GridSearchCV\n",
    "from sklearn.linear_model import LogisticRegression, RidgeClassifier\n",
    "from sklearn.metrics import confusion_matrix, classification_report, roc_auc_score, roc_curve\n",
    "\n",
    "# Load dataset\n",
    "data = load_breast_cancer()\n",
    "X = pd.DataFrame(data.data, columns=data.feature_names)\n",
    "y = pd.Series(data.target)\n"
   ]
  },
  {
   "cell_type": "code",
   "execution_count": 2,
   "id": "16066784-55e2-45d7-a153-7f1a78a521e8",
   "metadata": {},
   "outputs": [],
   "source": [
    "X_train, X_test, y_train, y_test = train_test_split(X, y, test_size=0.2, random_state=42, stratify=y)\n"
   ]
  },
  {
   "cell_type": "code",
   "execution_count": 3,
   "id": "7cbc4281-207b-4ba3-a802-e3cf080e510f",
   "metadata": {},
   "outputs": [
    {
     "name": "stdout",
     "output_type": "stream",
     "text": [
      "✅ Best Params: {'alpha': 0.1}\n",
      "✅ Best Score: 0.9604395604395604\n"
     ]
    }
   ],
   "source": [
    "# Define Ridge model\n",
    "ridge = RidgeClassifier()\n",
    "\n",
    "# Define hyperparameters\n",
    "params = {\n",
    "    'alpha': [0.1, 1, 10, 100]\n",
    "}\n",
    "\n",
    "# GridSearchCV for Ridge\n",
    "grid_ridge = GridSearchCV(ridge, params, cv=5)\n",
    "grid_ridge.fit(X_train, y_train)\n",
    "\n",
    "# Best params and model\n",
    "print(\"✅ Best Params:\", grid_ridge.best_params_)\n",
    "print(\"✅ Best Score:\", grid_ridge.best_score_)\n"
   ]
  },
  {
   "cell_type": "code",
   "execution_count": 4,
   "id": "6851e02b-d27e-4e09-960b-829c5ccbdff8",
   "metadata": {},
   "outputs": [
    {
     "name": "stdout",
     "output_type": "stream",
     "text": [
      "✅ Classification Report:\n",
      "              precision    recall  f1-score   support\n",
      "\n",
      "           0       1.00      0.90      0.95        42\n",
      "           1       0.95      1.00      0.97        72\n",
      "\n",
      "    accuracy                           0.96       114\n",
      "   macro avg       0.97      0.95      0.96       114\n",
      "weighted avg       0.97      0.96      0.96       114\n",
      "\n"
     ]
    },
    {
     "data": {
      "image/png": "[encoded data removed]",
      "text/plain": [
       "<Figure size 640x480 with 2 Axes>"
      ]
     },
     "metadata": {},
     "output_type": "display_data"
    }
   ],
   "source": [
    "# Predict and evaluate\n",
    "y_pred = grid_ridge.predict(X_test)\n",
    "\n",
    "print(\"✅ Classification Report:\")\n",
    "print(classification_report(y_test, y_pred))\n",
    "\n",
    "# Confusion matrix\n",
    "cm = confusion_matrix(y_test, y_pred)\n",
    "sns.heatmap(cm, annot=True, fmt='d', cmap='Blues')\n",
    "plt.title(\"RidgeClassifier Confusion Matrix\")\n",
    "plt.show()\n"
   ]
  },
  {
   "cell_type": "code",
   "execution_count": 9,
   "id": "b2eaa827-aeb1-4025-a72e-76f09fd2da71",
   "metadata": {},
   "outputs": [
    {
     "name": "stdout",
     "output_type": "stream",
     "text": [
      "✅ Lasso Model Score: 0.9824561403508771\n"
     ]
    }
   ],
   "source": [
    "from sklearn.linear_model import LogisticRegressionCV\n",
    "from sklearn.preprocessing import StandardScaler\n",
    "\n",
    "# L1 needs scaling\n",
    "scaler = StandardScaler()\n",
    "X_scaled = scaler.fit_transform(X)\n",
    "\n",
    "# Split scaled data\n",
    "X_train, X_test, y_train, y_test = train_test_split(X_scaled, y, test_size=0.2, random_state=42, stratify=y)\n",
    "\n",
    "# Lasso (L1) Logistic Regression with CV\n",
    "lasso_model = LogisticRegressionCV(\n",
    "    Cs=10,\n",
    "    penalty='l1',\n",
    "    solver='liblinear',\n",
    "    cv=5,\n",
    "    max_iter=1000\n",
    ")\n",
    "\n",
    "lasso_model.fit(X_train, y_train)\n",
    "\n",
    "print(\"✅ Lasso Model Score:\", lasso_model.score(X_test, y_test))\n"
   ]
  },
  {
   "cell_type": "code",
   "execution_count": null,
   "id": "37c12581-de48-44ad-9e98-b7f47ebf4045",
   "metadata": {},
   "outputs": [],
   "source": []
  }
 ],
 "metadata": {
  "kernelspec": {
   "display_name": "Python [conda env:base] *",
   "language": "python",
   "name": "conda-base-py"
  },
  "language_info": {
   "codemirror_mode": {
    "name": "ipython",
    "version": 3
   },
   "file_extension": ".py",
   "mimetype": "text/x-python",
   "name": "python",
   "nbconvert_exporter": "python",
   "pygments_lexer": "ipython3",
   "version": "3.12.7"
  }
 },
 "nbformat": 4,
 "nbformat_minor": 5
}
