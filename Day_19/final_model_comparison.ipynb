{
 "cells": [
  {
   "cell_type": "code",
   "execution_count": 7,
   "id": "20f2c192-ca3c-45c0-a8f9-cd3bf9ba8e66",
   "metadata": {},
   "outputs": [
    {
     "name": "stdout",
     "output_type": "stream",
     "text": [
      "✅ Data Loaded and Split\n"
     ]
    }
   ],
   "source": [
    "import numpy as np\n",
    "import pandas as pd\n",
    "import matplotlib.pyplot as plt\n",
    "from sklearn.linear_model import LinearRegression\n",
    "from sklearn.model_selection import train_test_split, cross_val_score\n",
    "from sklearn.metrics import mean_squared_error\n",
    "from sklearn.metrics import mean_squared_error, r2_score\n",
    "\n",
    "\n",
    "from sklearn.datasets import fetch_california_housing\n",
    "\n",
    "# Load and prep the data\n",
    "housing = fetch_california_housing()\n",
    "X = pd.DataFrame(housing.data, columns=housing.feature_names)\n",
    "y = housing.target\n",
    "\n",
    "X_train, X_test, y_train, y_test = train_test_split(X, y, test_size=0.2, random_state=42)\n",
    "\n",
    "print(\"✅ Data Loaded and Split\")\n"
   ]
  },
  {
   "cell_type": "code",
   "execution_count": 9,
   "id": "42a0be3d-b67f-48c5-88d7-6001057e217c",
   "metadata": {},
   "outputs": [
    {
     "name": "stdout",
     "output_type": "stream",
     "text": [
      "✅ Cross-Validation R² Scores: [0.64964449 0.5921379  0.6085515  0.61614764 0.59331327 0.6326183\n",
      " 0.63408802 0.5863762  0.60139404 0.59834835]\n",
      "📌 Mean R²: 0.6112619726475517\n",
      "📉 Standard Deviation: 0.02013176852720634\n"
     ]
    }
   ],
   "source": [
    "# Initialize model\n",
    "lr = LinearRegression()\n",
    "\n",
    "# Perform 10-fold cross-validation\n",
    "cv_scores = cross_val_score(lr, X_train, y_train, cv=10, scoring='r2')\n",
    "\n",
    "# Print results\n",
    "print(\"✅ Cross-Validation R² Scores:\", cv_scores)\n",
    "print(\"📌 Mean R²:\", np.mean(cv_scores))\n",
    "print(\"📉 Standard Deviation:\", np.std(cv_scores))\n"
   ]
  },
  {
   "cell_type": "code",
   "execution_count": 11,
   "id": "09783ad3-3ff2-4bc2-97e9-abaea3f781d7",
   "metadata": {},
   "outputs": [
    {
     "name": "stdout",
     "output_type": "stream",
     "text": [
      "✅ Final Model Test MSE: 0.556\n",
      "📌 Final Model Test R² Score: 0.576\n"
     ]
    }
   ],
   "source": [
    "# Train on full training set\n",
    "lr.fit(X_train, y_train)\n",
    "\n",
    "# Predict on test set\n",
    "y_pred = lr.predict(X_test)\n",
    "\n",
    "# Evaluate\n",
    "test_mse = mean_squared_error(y_test, y_pred)\n",
    "test_r2 = r2_score(y_test, y_pred)\n",
    "\n",
    "print(\"✅ Final Model Test MSE:\", round(test_mse, 3))\n",
    "print(\"📌 Final Model Test R² Score:\", round(test_r2, 3))\n"
   ]
  },
  {
   "cell_type": "code",
   "execution_count": null,
   "id": "103858cb-9011-41c0-95f4-3994d766c871",
   "metadata": {},
   "outputs": [],
   "source": []
  }
 ],
 "metadata": {
  "kernelspec": {
   "display_name": "Python [conda env:base] *",
   "language": "python",
   "name": "conda-base-py"
  },
  "language_info": {
   "codemirror_mode": {
    "name": "ipython",
    "version": 3
   },
   "file_extension": ".py",
   "mimetype": "text/x-python",
   "name": "python",
   "nbconvert_exporter": "python",
   "pygments_lexer": "ipython3",
   "version": "3.12.7"
  }
 },
 "nbformat": 4,
 "nbformat_minor": 5
}
