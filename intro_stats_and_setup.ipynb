{
 "cells": [
  {
   "cell_type": "code",
   "execution_count": 5,
   "id": "6d7e2e20-31c3-457d-9bd9-81938c95ce84",
   "metadata": {},
   "outputs": [
    {
     "name": "stdout",
     "output_type": "stream",
     "text": [
      "✅ ML Sprint Setup Complete - Libraries Imported\n"
     ]
    }
   ],
   "source": [
    "# Day 01 - ML Sprint Begins\n",
    "# Basic Stats & Setup Check\n",
    "\n",
    "import numpy as np\n",
    "import pandas as pd\n",
    "import matplotlib.pyplot as plt\n",
    "import seaborn as sns\n",
    "\n",
    "print(\"✅ ML Sprint Setup Complete - Libraries Imported\")\n"
   ]
  },
  {
   "cell_type": "code",
   "execution_count": 7,
   "id": "577b15e2-f6d3-411c-89ae-ac02d94839c7",
   "metadata": {},
   "outputs": [],
   "source": [
    "# Summary:\n",
    "# - Installed Jupyter Notebook using Anaconda\n",
    "# - Verified basic Python environment for ML\n",
    "# - Ready for Data Science & ML journey!\n"
   ]
  },
  {
   "cell_type": "code",
   "execution_count": null,
   "id": "2477f358-471d-479e-b14f-7f3aae65265f",
   "metadata": {},
   "outputs": [],
   "source": []
  }
 ],
 "metadata": {
  "kernelspec": {
   "display_name": "Python [conda env:base] *",
   "language": "python",
   "name": "conda-base-py"
  },
  "language_info": {
   "codemirror_mode": {
    "name": "ipython",
    "version": 3
   },
   "file_extension": ".py",
   "mimetype": "text/x-python",
   "name": "python",
   "nbconvert_exporter": "python",
   "pygments_lexer": "ipython3",
   "version": "3.12.7"
  }
 },
 "nbformat": 4,
 "nbformat_minor": 5
}
