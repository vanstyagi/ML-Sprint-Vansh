{
 "cells": [
  {
   "cell_type": "code",
   "execution_count": 2,
   "id": "e2ed3149-5db7-4f6a-81b0-b50a4e858bb1",
   "metadata": {},
   "outputs": [
    {
     "name": "stdout",
     "output_type": "stream",
     "text": [
      "Data prepared: Train shape = (353, 10) , Test shape = (89, 10)\n"
     ]
    }
   ],
   "source": [
    "# Imports + Dataset Preparation\n",
    "import numpy as np\n",
    "import pandas as pd\n",
    "import matplotlib.pyplot as plt\n",
    "\n",
    "from sklearn.datasets import load_diabetes\n",
    "from sklearn.model_selection import train_test_split, GridSearchCV\n",
    "from sklearn.preprocessing import StandardScaler\n",
    "from sklearn.linear_model import Ridge, Lasso, ElasticNet\n",
    "from sklearn.metrics import r2_score\n",
    "\n",
    "# Load dataset\n",
    "data = load_diabetes()\n",
    "X, y = data.data, data.target\n",
    "\n",
    "# Train-test split\n",
    "X_train, X_test, y_train, y_test = train_test_split(\n",
    "    X, y, test_size=0.2, random_state=42\n",
    ")\n",
    "\n",
    "# Scale features\n",
    "scaler = StandardScaler()\n",
    "X_train_scaled = scaler.fit_transform(X_train)\n",
    "X_test_scaled = scaler.transform(X_test)\n",
    "\n",
    "print(\"Data prepared: Train shape =\", X_train_scaled.shape, \", Test shape =\", X_test_scaled.shape)\n"
   ]
  },
  {
   "cell_type": "code",
   "execution_count": 4,
   "id": "7a8ef80a-152f-441c-8f8a-46fce0af9ff0",
   "metadata": {},
   "outputs": [
    {
     "name": "stdout",
     "output_type": "stream",
     "text": [
      "Best Ridge alpha: 44.98432668969444\n",
      "Best Ridge CV R²: 0.4564057908977427\n"
     ]
    }
   ],
   "source": [
    "# Ridge Hyperparameter Tuning\n",
    "ridge = Ridge()\n",
    "\n",
    "# Define parameter grid\n",
    "ridge_params = {\"alpha\": np.logspace(-3, 3, 50)}  # from 0.001 to 1000\n",
    "\n",
    "# GridSearch with 5-fold CV\n",
    "ridge_grid = GridSearchCV(ridge, ridge_params, cv=5, scoring=\"r2\")\n",
    "ridge_grid.fit(X_train_scaled, y_train)\n",
    "\n",
    "print(\"Best Ridge alpha:\", ridge_grid.best_params_[\"alpha\"])\n",
    "print(\"Best Ridge CV R²:\", ridge_grid.best_score_)\n"
   ]
  },
  {
   "cell_type": "code",
   "execution_count": 6,
   "id": "5c252168-e161-4b2b-b676-ecff77d28962",
   "metadata": {},
   "outputs": [
    {
     "name": "stdout",
     "output_type": "stream",
     "text": [
      "Best Lasso alpha: 1.8420699693267144\n",
      "Best Lasso CV R²: 0.4556950145191811\n"
     ]
    }
   ],
   "source": [
    "# Lasso Hyperparameter Tuning\n",
    "lasso = Lasso(max_iter=10000)\n",
    "\n",
    "# Define parameter grid\n",
    "lasso_params = {\"alpha\": np.logspace(-3, 1, 50)}  # from 0.001 to 10\n",
    "\n",
    "# GridSearch with 5-fold CV\n",
    "lasso_grid = GridSearchCV(lasso, lasso_params, cv=5, scoring=\"r2\")\n",
    "lasso_grid.fit(X_train_scaled, y_train)\n",
    "\n",
    "print(\"Best Lasso alpha:\", lasso_grid.best_params_[\"alpha\"])\n",
    "print(\"Best Lasso CV R²:\", lasso_grid.best_score_)\n"
   ]
  },
  {
   "cell_type": "code",
   "execution_count": 8,
   "id": "e5978963-1d3a-42e3-8187-b201348dc770",
   "metadata": {},
   "outputs": [
    {
     "name": "stdout",
     "output_type": "stream",
     "text": [
      "Best ElasticNet params: {'alpha': 0.20691380811147903, 'l1_ratio': 0.30000000000000004}\n",
      "Best ElasticNet CV R²: 0.4564109445802577\n"
     ]
    }
   ],
   "source": [
    "# Elastic Net Hyperparameter Tuning\n",
    "elastic_net = ElasticNet(max_iter=10000)\n",
    "\n",
    "# Define parameter grid (alpha + l1_ratio both tuned)\n",
    "elastic_params = {\n",
    "    \"alpha\": np.logspace(-3, 1, 20),   # 0.001 → 10\n",
    "    \"l1_ratio\": np.linspace(0.1, 0.9, 9)  # mix between L1 & L2\n",
    "}\n",
    "\n",
    "# GridSearchCV with 5-fold cross validation\n",
    "elastic_grid = GridSearchCV(elastic_net, elastic_params, cv=5, scoring=\"r2\")\n",
    "elastic_grid.fit(X_train_scaled, y_train)\n",
    "\n",
    "print(\"Best ElasticNet params:\", elastic_grid.best_params_)\n",
    "print(\"Best ElasticNet CV R²:\", elastic_grid.best_score_)\n"
   ]
  },
  {
   "cell_type": "code",
   "execution_count": 12,
   "id": "85b6b180-1068-4900-af09-ee46990803e9",
   "metadata": {},
   "outputs": [
    {
     "name": "stdout",
     "output_type": "stream",
     "text": [
      "\n",
      "🧾 Final Test R² Scores:\n",
      "Linear Regression: 0.4526\n",
      "Ridge: 0.4608\n",
      "Lasso: 0.4716\n",
      "Elastic Net: 0.4615\n"
     ]
    }
   ],
   "source": [
    "# Final Comparison on Test Set\n",
    "from sklearn.linear_model import LinearRegression\n",
    "\n",
    "lin_reg = LinearRegression()\n",
    "lin_reg.fit(X_train_scaled, y_train)\n",
    "\n",
    "\n",
    "# Best tuned models\n",
    "ridge_best = ridge_grid.best_estimator_\n",
    "lasso_best = lasso_grid.best_estimator_\n",
    "elastic_best = elastic_grid.best_estimator_\n",
    "\n",
    "# Evaluate all\n",
    "models_final = {\n",
    "    \"Linear Regression\": lin_reg,\n",
    "    \"Ridge\": ridge_best,\n",
    "    \"Lasso\": lasso_best,\n",
    "    \"Elastic Net\": elastic_best\n",
    "}\n",
    "\n",
    "print(\"\\n🧾 Final Test R² Scores:\")\n",
    "for name, model in models_final.items():\n",
    "    y_pred = model.predict(X_test_scaled)\n",
    "    r2 = r2_score(y_test, y_pred)\n",
    "    print(f\"{name}: {r2:.4f}\")\n"
   ]
  }
 ],
 "metadata": {
  "kernelspec": {
   "display_name": "Python [conda env:base] *",
   "language": "python",
   "name": "conda-base-py"
  },
  "language_info": {
   "codemirror_mode": {
    "name": "ipython",
    "version": 3
   },
   "file_extension": ".py",
   "mimetype": "text/x-python",
   "name": "python",
   "nbconvert_exporter": "python",
   "pygments_lexer": "ipython3",
   "version": "3.12.3"
  }
 },
 "nbformat": 4,
 "nbformat_minor": 5
}
