{
 "cells": [
  {
   "cell_type": "code",
   "execution_count": null,
   "id": "dc7ad698-eb69-4249-97a9-07e3fb83922c",
   "metadata": {},
   "outputs": [],
   "source": []
  }
 ],
 "metadata": {
  "kernelspec": {
   "display_name": "",
   "name": ""
  },
  "language_info": {
   "name": ""
  }
 },
 "nbformat": 4,
 "nbformat_minor": 5
}
