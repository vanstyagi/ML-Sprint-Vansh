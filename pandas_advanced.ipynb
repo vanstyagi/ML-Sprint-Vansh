{
 "cells": [
  {
   "cell_type": "code",
   "execution_count": 2,
   "id": "e0f153de-4696-49fb-b3f3-c67ccad5f944",
   "metadata": {},
   "outputs": [
    {
     "name": "stdout",
     "output_type": "stream",
     "text": [
      "Access row 0 with iloc:\n",
      " Name      Vansh\n",
      "Marks        88\n",
      "Passed     True\n",
      "Name: 0, dtype: object\n",
      "\n",
      "Access row by label with loc:\n",
      " Name      Vansh\n",
      "Marks        88\n",
      "Passed     True\n",
      "Name: 0, dtype: object\n"
     ]
    }
   ],
   "source": [
    "# Day 03 - Pandas Advanced: iloc & loc\n",
    "\n",
    "import pandas as pd\n",
    "\n",
    "# Sample DataFrame\n",
    "data = {\n",
    "    'Name': ['Vansh', 'Ravi', 'Priya', 'Meena'],\n",
    "    'Marks': [88, 76, 92, 67],\n",
    "    'Passed': [True, False, True, False]\n",
    "}\n",
    "df = pd.DataFrame(data)\n",
    "\n",
    "# Using iloc\n",
    "print(\"Access row 0 with iloc:\\n\", df.iloc[0])\n",
    "\n",
    "# Using loc\n",
    "print(\"\\nAccess row by label with loc:\\n\", df.loc[0])\n"
   ]
  },
  {
   "cell_type": "code",
   "execution_count": 4,
   "id": "591995a3-6a28-4b77-b059-1f1bf63463a9",
   "metadata": {},
   "outputs": [
    {
     "name": "stdout",
     "output_type": "stream",
     "text": [
      "Students scoring above 75:\n",
      "     Name  Marks  Passed\n",
      "0  Vansh     88    True\n",
      "1   Ravi     76   False\n",
      "2  Priya     92    True\n",
      "\n",
      "Passed and scored above 75:\n",
      "     Name  Marks  Passed\n",
      "0  Vansh     88    True\n",
      "2  Priya     92    True\n"
     ]
    }
   ],
   "source": [
    "# Filtering rows where Marks > 75\n",
    "high_scorers = df[df['Marks'] > 75]\n",
    "print(\"Students scoring above 75:\\n\", high_scorers)\n",
    "\n",
    "# Filtering with multiple conditions\n",
    "passed_and_high = df[(df['Marks'] > 75) & (df['Passed'] == True)]\n",
    "print(\"\\nPassed and scored above 75:\\n\", passed_and_high)\n"
   ]
  },
  {
   "cell_type": "code",
   "execution_count": 6,
   "id": "5dd9d42c-c3a2-4cf9-9cf8-7ca11489b41e",
   "metadata": {},
   "outputs": [
    {
     "name": "stdout",
     "output_type": "stream",
     "text": [
      "Sorted by Marks (Ascending):\n",
      "     Name  Marks  Passed\n",
      "3  Meena     67   False\n",
      "1   Ravi     76   False\n",
      "0  Vansh     88    True\n",
      "2  Priya     92    True\n",
      "\n",
      "Sorted by Marks (Descending):\n",
      "     Name  Marks  Passed\n",
      "2  Priya     92    True\n",
      "0  Vansh     88    True\n",
      "1   Ravi     76   False\n",
      "3  Meena     67   False\n"
     ]
    }
   ],
   "source": [
    "# Sorting by Marks in ascending order\n",
    "sorted_df = df.sort_values(by='Marks')\n",
    "print(\"Sorted by Marks (Ascending):\\n\", sorted_df)\n",
    "\n",
    "# Sorting by Marks in descending order\n",
    "sorted_desc = df.sort_values(by='Marks', ascending=False)\n",
    "print(\"\\nSorted by Marks (Descending):\\n\", sorted_desc)\n"
   ]
  },
  {
   "cell_type": "code",
   "execution_count": null,
   "id": "552e5fbc-0f9d-4ff1-bf2d-672a95f70a24",
   "metadata": {},
   "outputs": [],
   "source": []
  }
 ],
 "metadata": {
  "kernelspec": {
   "display_name": "Python [conda env:base] *",
   "language": "python",
   "name": "conda-base-py"
  },
  "language_info": {
   "codemirror_mode": {
    "name": "ipython",
    "version": 3
   },
   "file_extension": ".py",
   "mimetype": "text/x-python",
   "name": "python",
   "nbconvert_exporter": "python",
   "pygments_lexer": "ipython3",
   "version": "3.12.7"
  }
 },
 "nbformat": 4,
 "nbformat_minor": 5
}
