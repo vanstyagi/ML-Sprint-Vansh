{
 "cells": [
  {
   "cell_type": "code",
   "execution_count": 2,
   "id": "fb5ef970-d9b0-4a77-bd75-69b76a568bb1",
   "metadata": {},
   "outputs": [
    {
     "name": "stdout",
     "output_type": "stream",
     "text": [
      "Original DataFrame:\n",
      "       Name   Age  Score\n",
      "0    Alice  25.0   85.0\n",
      "1      Bob   NaN   90.0\n",
      "2  Charlie  30.0    NaN\n",
      "3     None  22.0   70.0\n"
     ]
    }
   ],
   "source": [
    "# Data Cleaning Basics 🔧🧹\n",
    "\n",
    "import pandas as pd\n",
    "import numpy as np\n",
    "\n",
    "# Sample dirty data\n",
    "data = {\n",
    "    'Name': ['Alice', 'Bob', 'Charlie', None],\n",
    "    'Age': [25, np.nan, 30, 22],\n",
    "    'Score': [85, 90, None, 70]\n",
    "}\n",
    "\n",
    "df = pd.DataFrame(data)\n",
    "print(\"Original DataFrame:\\n\", df)\n"
   ]
  },
  {
   "cell_type": "code",
   "execution_count": 4,
   "id": "0a180641-ffea-452a-bafb-1794dda9680e",
   "metadata": {},
   "outputs": [
    {
     "name": "stdout",
     "output_type": "stream",
     "text": [
      "\n",
      "After dropna():\n",
      "     Name   Age  Score\n",
      "0  Alice  25.0   85.0\n",
      "\n",
      "After fillna():\n",
      "       Name        Age  Score\n",
      "0    Alice  25.000000   85.0\n",
      "1      Bob  25.666667   90.0\n",
      "2  Charlie  30.000000   85.0\n",
      "3  Unknown  22.000000   70.0\n"
     ]
    }
   ],
   "source": [
    "# 🔍 Handling Missing Values\n",
    "\n",
    "# Drop rows with any missing values\n",
    "df_dropna = df.dropna()\n",
    "print(\"\\nAfter dropna():\\n\", df_dropna)\n",
    "\n",
    "# Fill missing values with default values\n",
    "df_fillna = df.fillna({\n",
    "    'Name': 'Unknown',\n",
    "    'Age': df['Age'].mean(),\n",
    "    'Score': df['Score'].median()\n",
    "})\n",
    "print(\"\\nAfter fillna():\\n\", df_fillna)\n"
   ]
  },
  {
   "cell_type": "code",
   "execution_count": 6,
   "id": "300e35b9-6413-46cd-90ed-aba5625eae60",
   "metadata": {},
   "outputs": [
    {
     "name": "stdout",
     "output_type": "stream",
     "text": [
      "\n",
      "Outliers in Score column:\n",
      " Series([], Name: Score, dtype: float64)\n"
     ]
    }
   ],
   "source": [
    "# ⚠️ Outlier Detection Using IQR Method\n",
    "\n",
    "# Sample numerical column\n",
    "scores = df['Score'].dropna()\n",
    "\n",
    "Q1 = scores.quantile(0.25)\n",
    "Q3 = scores.quantile(0.75)\n",
    "IQR = Q3 - Q1\n",
    "\n",
    "lower_bound = Q1 - 1.5 * IQR\n",
    "upper_bound = Q3 + 1.5 * IQR\n",
    "\n",
    "outliers = scores[(scores < lower_bound) | (scores > upper_bound)]\n",
    "print(\"\\nOutliers in Score column:\\n\", outliers)\n"
   ]
  },
  {
   "cell_type": "code",
   "execution_count": null,
   "id": "ab6ec300-696b-4ffe-83bf-e90594b4bf08",
   "metadata": {},
   "outputs": [],
   "source": []
  }
 ],
 "metadata": {
  "kernelspec": {
   "display_name": "Python [conda env:base] *",
   "language": "python",
   "name": "conda-base-py"
  },
  "language_info": {
   "codemirror_mode": {
    "name": "ipython",
    "version": 3
   },
   "file_extension": ".py",
   "mimetype": "text/x-python",
   "name": "python",
   "nbconvert_exporter": "python",
   "pygments_lexer": "ipython3",
   "version": "3.12.7"
  }
 },
 "nbformat": 4,
 "nbformat_minor": 5
}
